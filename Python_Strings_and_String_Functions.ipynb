{
 "cells": [
  {
   "cell_type": "code",
   "execution_count": 2,
   "id": "36fb48dc",
   "metadata": {},
   "outputs": [],
   "source": [
    "#Strings \n",
    "\n",
    "# any object representing a sequence of characters in an eclosing set of quotation marks \n",
    "\n",
    "myCountry = 'Ghana'"
   ]
  },
  {
   "cell_type": "code",
   "execution_count": 56,
   "id": "ea47a58d",
   "metadata": {},
   "outputs": [
    {
     "data": {
      "text/plain": [
       "'Ghana'"
      ]
     },
     "execution_count": 56,
     "metadata": {},
     "output_type": "execute_result"
    }
   ],
   "source": [
    "myCountry"
   ]
  },
  {
   "cell_type": "code",
   "execution_count": 3,
   "id": "8144d393",
   "metadata": {},
   "outputs": [
    {
     "data": {
      "text/plain": [
       "str"
      ]
     },
     "execution_count": 3,
     "metadata": {},
     "output_type": "execute_result"
    }
   ],
   "source": [
    "#Variable type \n",
    "\n",
    "type(myCountry)"
   ]
  },
  {
   "cell_type": "code",
   "execution_count": 4,
   "id": "178bc792",
   "metadata": {},
   "outputs": [],
   "source": [
    "myCountry = \"Ghana\""
   ]
  },
  {
   "cell_type": "code",
   "execution_count": 7,
   "id": "00f103e6",
   "metadata": {},
   "outputs": [],
   "source": [
    "# Scenario 1\n",
    "\n",
    "'''\n",
    "Okita has a student in his class with the following student ID; Benard_Bondo_34563\n",
    "\n",
    "Task: extract the first name, lastname and numeric iID of the student from the string\n",
    "'''"
   ]
  },
  {
   "cell_type": "code",
   "execution_count": 9,
   "id": "b15865cc",
   "metadata": {},
   "outputs": [],
   "source": [
    "studentID = 'Benard_Bondo_34563'\n",
    "\n",
    "#Each character in a string is assigned an index position, starting from 0"
   ]
  },
  {
   "cell_type": "code",
   "execution_count": 10,
   "id": "e7098617",
   "metadata": {},
   "outputs": [
    {
     "data": {
      "text/plain": [
       "'B'"
      ]
     },
     "execution_count": 10,
     "metadata": {},
     "output_type": "execute_result"
    }
   ],
   "source": [
    "# String slicing and subsetting \n",
    "\n",
    "studentID[0]"
   ]
  },
  {
   "cell_type": "code",
   "execution_count": 11,
   "id": "db1fdf18",
   "metadata": {},
   "outputs": [
    {
     "data": {
      "text/plain": [
       "'r'"
      ]
     },
     "execution_count": 11,
     "metadata": {},
     "output_type": "execute_result"
    }
   ],
   "source": [
    "# retrieve 'R' from the student ID \n",
    "\n",
    "studentID[4]"
   ]
  },
  {
   "cell_type": "code",
   "execution_count": 12,
   "id": "1783e629",
   "metadata": {},
   "outputs": [
    {
     "data": {
      "text/plain": [
       "18"
      ]
     },
     "execution_count": 12,
     "metadata": {},
     "output_type": "execute_result"
    }
   ],
   "source": [
    "# get the length of a string using the len() function  \n",
    "\n",
    "len(studentID)"
   ]
  },
  {
   "cell_type": "code",
   "execution_count": null,
   "id": "d40ca31b",
   "metadata": {},
   "outputs": [],
   "source": [
    "Let us use a conditional statement to check the length of an account number  \n",
    "\n",
    "savingsAcctNo = '00978457645834'\n",
    "\n",
    "# use confditional statement to check if the string length is 10  \n",
    "\n"
   ]
  },
  {
   "cell_type": "code",
   "execution_count": null,
   "id": "7f3ae7c6",
   "metadata": {},
   "outputs": [],
   "source": [
    "# structure of an if statement  \n",
    "\n",
    "if CONDITION_TO _EVALUATE:\n",
    "    code to run if condition is true\n",
    "else:\n",
    "    code to run if condition is false\n",
    "    "
   ]
  },
  {
   "cell_type": "code",
   "execution_count": null,
   "id": "60776644",
   "metadata": {},
   "outputs": [],
   "source": []
  },
  {
   "cell_type": "code",
   "execution_count": null,
   "id": "6672e23a",
   "metadata": {},
   "outputs": [],
   "source": []
  },
  {
   "cell_type": "code",
   "execution_count": 57,
   "id": "51981cd5",
   "metadata": {},
   "outputs": [
    {
     "name": "stdout",
     "output_type": "stream",
     "text": [
      "wow I am an adult now!\n"
     ]
    }
   ],
   "source": [
    "age = 35  \n",
    "\n",
    "if age > 30:\n",
    "    print('wow I am an adult now!') # executed when condition is true\n",
    "else:\n",
    "    print('hehehehe.... i am in my prime') # executed when condition is false"
   ]
  },
  {
   "cell_type": "code",
   "execution_count": 59,
   "id": "5d79c1f8",
   "metadata": {},
   "outputs": [
    {
     "data": {
      "text/plain": [
       "False"
      ]
     },
     "execution_count": 59,
     "metadata": {},
     "output_type": "execute_result"
    }
   ],
   "source": [
    "age > 40"
   ]
  },
  {
   "cell_type": "code",
   "execution_count": null,
   "id": "5c089092",
   "metadata": {},
   "outputs": [],
   "source": []
  },
  {
   "cell_type": "code",
   "execution_count": 15,
   "id": "547b2801",
   "metadata": {},
   "outputs": [
    {
     "name": "stdout",
     "output_type": "stream",
     "text": [
      "hehehehe.... i am in my prime\n"
     ]
    }
   ],
   "source": [
    "age = 25  \n",
    "\n",
    "if age > 30:\n",
    "    print('wow I am an adult now!') # executed when condition is true\n",
    "else:\n",
    "    print('hehehehe.... i am in my prime') # executed when condition is false"
   ]
  },
  {
   "cell_type": "code",
   "execution_count": null,
   "id": "6deb7209",
   "metadata": {},
   "outputs": [],
   "source": []
  },
  {
   "cell_type": "code",
   "execution_count": 18,
   "id": "b1e537f5",
   "metadata": {},
   "outputs": [
    {
     "name": "stdout",
     "output_type": "stream",
     "text": [
      "i am rich\n"
     ]
    }
   ],
   "source": [
    "wealth = 59999\n",
    "\n",
    "if wealth > 5000:\n",
    "    print('i am rich')\n",
    "else:\n",
    "    print('i am poor')"
   ]
  },
  {
   "cell_type": "code",
   "execution_count": 60,
   "id": "5324b71f",
   "metadata": {},
   "outputs": [
    {
     "data": {
      "text/plain": [
       "True"
      ]
     },
     "execution_count": 60,
     "metadata": {},
     "output_type": "execute_result"
    }
   ],
   "source": [
    "wealth > 5000"
   ]
  },
  {
   "cell_type": "code",
   "execution_count": 61,
   "id": "b9855764",
   "metadata": {},
   "outputs": [
    {
     "name": "stdout",
     "output_type": "stream",
     "text": [
      "i am poor\n"
     ]
    }
   ],
   "source": [
    "wealth = 59999\n",
    "\n",
    "if wealth < 5000:\n",
    "    print('i am rich')\n",
    "else:\n",
    "    print('i am poor')"
   ]
  },
  {
   "cell_type": "code",
   "execution_count": 62,
   "id": "73d1c262",
   "metadata": {},
   "outputs": [
    {
     "data": {
      "text/plain": [
       "False"
      ]
     },
     "execution_count": 62,
     "metadata": {},
     "output_type": "execute_result"
    }
   ],
   "source": [
    "wealth < 5000"
   ]
  },
  {
   "cell_type": "code",
   "execution_count": null,
   "id": "132ddd47",
   "metadata": {},
   "outputs": [],
   "source": []
  },
  {
   "cell_type": "code",
   "execution_count": 20,
   "id": "ec309b6f",
   "metadata": {},
   "outputs": [
    {
     "name": "stdout",
     "output_type": "stream",
     "text": [
      "account number length is not equal to 10\n",
      "the length of account number is 14\n"
     ]
    }
   ],
   "source": [
    "#Let us use a conditional statement to check the length of an account number  \n",
    "\n",
    "savingsAcctNo = '00978457645834'\n",
    "\n",
    "# use confditional statement to check if the string length is 10  \n",
    "\n",
    "if len(savingsAcctNo) == 10:\n",
    "    print('account number length is 10')\n",
    "else:\n",
    "    print('account number length is not equal to 10')\n",
    "    print('the length of account number is', len(savingsAcctNo))\n"
   ]
  },
  {
   "cell_type": "code",
   "execution_count": 63,
   "id": "0262be5d",
   "metadata": {},
   "outputs": [
    {
     "data": {
      "text/plain": [
       "False"
      ]
     },
     "execution_count": 63,
     "metadata": {},
     "output_type": "execute_result"
    }
   ],
   "source": [
    "len(savingsAcctNo) == 10"
   ]
  },
  {
   "cell_type": "code",
   "execution_count": null,
   "id": "74f76d45",
   "metadata": {},
   "outputs": [],
   "source": [
    "# Scenario 1\n",
    "\n",
    "'''\n",
    "Okita has a student in his class with the following student ID; Benard_Bondo_34563\n",
    "\n",
    "Task: extract the first name, lastname and numeric iID of the student from the string\n",
    "'''"
   ]
  },
  {
   "cell_type": "code",
   "execution_count": 65,
   "id": "ac638c5a",
   "metadata": {},
   "outputs": [
    {
     "name": "stdout",
     "output_type": "stream",
     "text": [
      "B enar\n"
     ]
    }
   ],
   "source": [
    "studentID = 'Benard_Bondo_34563'\n",
    "\n",
    "firstName = studentID[0:6]\n",
    "print(firstName)"
   ]
  },
  {
   "cell_type": "code",
   "execution_count": 23,
   "id": "fa0dcd90",
   "metadata": {},
   "outputs": [
    {
     "data": {
      "text/plain": [
       "'Bondo'"
      ]
     },
     "execution_count": 23,
     "metadata": {},
     "output_type": "execute_result"
    }
   ],
   "source": [
    "lastName = studentID[7:12]\n",
    "lastName"
   ]
  },
  {
   "cell_type": "code",
   "execution_count": 24,
   "id": "515d9fff",
   "metadata": {},
   "outputs": [
    {
     "data": {
      "text/plain": [
       "'34563'"
      ]
     },
     "execution_count": 24,
     "metadata": {},
     "output_type": "execute_result"
    }
   ],
   "source": [
    "numericID = studentID[13:18]\n",
    "numericID"
   ]
  },
  {
   "cell_type": "code",
   "execution_count": 25,
   "id": "2311a677",
   "metadata": {},
   "outputs": [
    {
     "name": "stdout",
     "output_type": "stream",
     "text": [
      "Benard Bondo 34563\n"
     ]
    }
   ],
   "source": [
    "print(firstName, lastName,numericID)"
   ]
  },
  {
   "cell_type": "code",
   "execution_count": 28,
   "id": "bb3532a7",
   "metadata": {},
   "outputs": [
    {
     "data": {
      "text/plain": [
       "5"
      ]
     },
     "execution_count": 28,
     "metadata": {},
     "output_type": "execute_result"
    }
   ],
   "source": [
    "x = 5\n",
    "x\n",
    "y = 6\n",
    "x"
   ]
  },
  {
   "cell_type": "code",
   "execution_count": 29,
   "id": "52dbdb6f",
   "metadata": {},
   "outputs": [
    {
     "data": {
      "text/plain": [
       "'Benard_Bondo_34563'"
      ]
     },
     "execution_count": 29,
     "metadata": {},
     "output_type": "execute_result"
    }
   ],
   "source": [
    "studentID"
   ]
  },
  {
   "cell_type": "code",
   "execution_count": 30,
   "id": "c74b275c",
   "metadata": {},
   "outputs": [
    {
     "name": "stdout",
     "output_type": "stream",
     "text": [
      "3\n",
      "3\n"
     ]
    }
   ],
   "source": [
    "# Negative indexing of strings  \n",
    "\n",
    "studentID = 'Benard_Bondo_34563'\n",
    "# the last character in a string is always in index position -1 or the length of the string minus one \n",
    "\n",
    "strLength = len(studentID)\n",
    "\n",
    "lastChar1 = studentID[-1]\n",
    "lastChar2 = studentID[strLength-1]\n",
    "\n",
    "print(lastChar1)\n",
    "print(lastChar2)\n"
   ]
  },
  {
   "cell_type": "code",
   "execution_count": 31,
   "id": "2638395c",
   "metadata": {},
   "outputs": [
    {
     "data": {
      "text/plain": [
       "18"
      ]
     },
     "execution_count": 31,
     "metadata": {},
     "output_type": "execute_result"
    }
   ],
   "source": [
    "len(studentID)"
   ]
  },
  {
   "cell_type": "code",
   "execution_count": 33,
   "id": "e7aff502",
   "metadata": {},
   "outputs": [
    {
     "data": {
      "text/plain": [
       "'Benard'"
      ]
     },
     "execution_count": 33,
     "metadata": {},
     "output_type": "execute_result"
    }
   ],
   "source": [
    "# slicing using negative index \n",
    "\n",
    "firstName1 = studentID[-18:-12]\n",
    "firstName1"
   ]
  },
  {
   "cell_type": "code",
   "execution_count": 35,
   "id": "19362221",
   "metadata": {},
   "outputs": [
    {
     "name": "stdout",
     "output_type": "stream",
     "text": [
      "suite 127\n",
      "50 south main street\n",
      "akron ohio 44308\n"
     ]
    }
   ],
   "source": [
    "address = 'suite 127, 50 south main street, akron ohio 44308'\n",
    "\n",
    "address1 = address[0:9]\n",
    "address2 = address[11:31]\n",
    "address3 = address[33:49]\n",
    "\n",
    "print(address1)\n",
    "print(address2)\n",
    "print(address3)"
   ]
  },
  {
   "cell_type": "code",
   "execution_count": 44,
   "id": "d1522772",
   "metadata": {},
   "outputs": [],
   "source": [
    "text = 'publishing and graphic design, Lorem ipsum is a placeholder text commonly used to demonstrate the visual form of a document or a typeface crazy without relying on meaningful content. Lorem ipsum may be used as a placeholder before final copy is available. It is also damn used to temporarily replace text in a process called greeking, which allows designers to consider the form of a webpage or publication,  damn without the meaning of the text influencing the design.'"
   ]
  },
  {
   "cell_type": "code",
   "execution_count": 45,
   "id": "b148134e",
   "metadata": {},
   "outputs": [],
   "source": [
    "wordsInText = text.split(' ')"
   ]
  },
  {
   "cell_type": "code",
   "execution_count": 51,
   "id": "1aa60253",
   "metadata": {},
   "outputs": [
    {
     "data": {
      "text/plain": [
       "['publishing',\n",
       " 'and',\n",
       " 'graphic',\n",
       " 'design,',\n",
       " 'Lorem',\n",
       " 'ipsum',\n",
       " 'is',\n",
       " 'a',\n",
       " 'placeholder',\n",
       " 'text',\n",
       " 'commonly',\n",
       " 'used',\n",
       " 'to',\n",
       " 'demonstrate',\n",
       " 'the',\n",
       " 'visual',\n",
       " 'form',\n",
       " 'of',\n",
       " 'a',\n",
       " 'document',\n",
       " 'or',\n",
       " 'a',\n",
       " 'typeface',\n",
       " 'crazy',\n",
       " 'without',\n",
       " 'relying',\n",
       " 'on',\n",
       " 'meaningful',\n",
       " 'content.',\n",
       " 'Lorem',\n",
       " 'ipsum',\n",
       " 'may',\n",
       " 'be',\n",
       " 'used',\n",
       " 'as',\n",
       " 'a',\n",
       " 'placeholder',\n",
       " 'before',\n",
       " 'final',\n",
       " 'copy',\n",
       " 'is',\n",
       " 'available.',\n",
       " 'It',\n",
       " 'is',\n",
       " 'also',\n",
       " 'damn',\n",
       " 'used',\n",
       " 'to',\n",
       " 'temporarily',\n",
       " 'replace',\n",
       " 'text',\n",
       " 'in',\n",
       " 'a',\n",
       " 'process',\n",
       " 'called',\n",
       " 'greeking,',\n",
       " 'which',\n",
       " 'allows',\n",
       " 'designers',\n",
       " 'to',\n",
       " 'consider',\n",
       " 'the',\n",
       " 'form',\n",
       " 'of',\n",
       " 'a',\n",
       " 'webpage',\n",
       " 'or',\n",
       " 'publication,',\n",
       " '',\n",
       " 'damn',\n",
       " 'without',\n",
       " 'the',\n",
       " 'meaning',\n",
       " 'of',\n",
       " 'the',\n",
       " 'text',\n",
       " 'influencing',\n",
       " 'the',\n",
       " 'design.']"
      ]
     },
     "execution_count": 51,
     "metadata": {},
     "output_type": "execute_result"
    }
   ],
   "source": [
    "wordsInText"
   ]
  },
  {
   "cell_type": "code",
   "execution_count": 46,
   "id": "43de32fa",
   "metadata": {},
   "outputs": [
    {
     "name": "stdout",
     "output_type": "stream",
     "text": [
      "['publishing', 'and', 'graphic', 'design,', 'Lorem', 'ipsum', 'is', 'a', 'placeholder', 'text', 'commonly', 'used', 'to', 'demonstrate', 'the', 'visual', 'form', 'of', 'a', 'document', 'or', 'a', 'typeface', 'crazy', 'without', 'relying', 'on', 'meaningful', 'content.', 'Lorem', 'ipsum', 'may', 'be', 'used', 'as', 'a', 'placeholder', 'before', 'final', 'copy', 'is', 'available.', 'It', 'is', 'also', 'damn', 'used', 'to', 'temporarily', 'replace', 'text', 'in', 'a', 'process', 'called', 'greeking,', 'which', 'allows', 'designers', 'to', 'consider', 'the', 'form', 'of', 'a', 'webpage', 'or', 'publication,', '', 'damn', 'without', 'the', 'meaning', 'of', 'the', 'text', 'influencing', 'the', 'design.']\n"
     ]
    }
   ],
   "source": [
    "print(wordsInText)"
   ]
  },
  {
   "cell_type": "code",
   "execution_count": 43,
   "id": "295e8eb6",
   "metadata": {},
   "outputs": [
    {
     "name": "stdout",
     "output_type": "stream",
     "text": [
      "found word, used at index postion 74\n",
      "found word, used at index postion 74\n",
      "found word, used at index postion 74\n"
     ]
    }
   ],
   "source": [
    "wordToSearch = 'used'\n",
    "\n",
    "for word in wordsInText:\n",
    "    if word == wordToSearch:\n",
    "        indexPos = text.index(word)\n",
    "        print(f'found word, {word} at index postion {indexPos}')"
   ]
  },
  {
   "cell_type": "code",
   "execution_count": 47,
   "id": "2c94ee85",
   "metadata": {},
   "outputs": [
    {
     "name": "stdout",
     "output_type": "stream",
     "text": [
      "found word, crazy at index postion 138\n",
      "found word, damn at index postion 267\n",
      "found word, damn at index postion 267\n"
     ]
    }
   ],
   "source": [
    "wordToSearchList = ['crazy', 'damn']\n",
    "\n",
    "for word in wordsInText:\n",
    "    if word in wordToSearchList:\n",
    "        indexPos = text.index(word)\n",
    "        print(f'found word, {word} at index postion {indexPos}')"
   ]
  },
  {
   "cell_type": "code",
   "execution_count": 48,
   "id": "9a18decf",
   "metadata": {},
   "outputs": [
    {
     "name": "stdout",
     "output_type": "stream",
     "text": [
      "myage 70\n"
     ]
    }
   ],
   "source": [
    "x = 70\n",
    "print('myage', x)"
   ]
  },
  {
   "cell_type": "code",
   "execution_count": 50,
   "id": "b1ba42d7",
   "metadata": {},
   "outputs": [
    {
     "name": "stdout",
     "output_type": "stream",
     "text": [
      "myage is 70\n"
     ]
    }
   ],
   "source": [
    "x = 70\n",
    "print(f'myage is {x}')"
   ]
  },
  {
   "cell_type": "code",
   "execution_count": 52,
   "id": "c789a4b0",
   "metadata": {},
   "outputs": [
    {
     "data": {
      "text/plain": [
       "['Benard', 'Bondo', '34563']"
      ]
     },
     "execution_count": 52,
     "metadata": {},
     "output_type": "execute_result"
    }
   ],
   "source": [
    "studentID = 'Benard_Bondo_34563'\n",
    "\n",
    "# Using Split() function to slice strings \n",
    "\n",
    "studentVals = studentID.split('_')\n",
    "\n",
    "studentVals"
   ]
  },
  {
   "cell_type": "code",
   "execution_count": 54,
   "id": "630debfe",
   "metadata": {},
   "outputs": [],
   "source": [
    "firstName3 = studentVals[0]\n",
    "lastName3 = studentVals[1]\n",
    "studID3 = studentVals[2]"
   ]
  },
  {
   "cell_type": "code",
   "execution_count": 55,
   "id": "f435866b",
   "metadata": {},
   "outputs": [
    {
     "name": "stdout",
     "output_type": "stream",
     "text": [
      "Benard\n",
      "Bondo\n",
      "34563\n"
     ]
    }
   ],
   "source": [
    "print(firstName3)\n",
    "print(lastName3)\n",
    "print(studID3)"
   ]
  },
  {
   "cell_type": "code",
   "execution_count": 67,
   "id": "e4135921",
   "metadata": {},
   "outputs": [],
   "source": [
    "studentID = 'Benard_Bondo_34563'\n",
    "\n",
    "first_name, last_name, ID = studentID.split('_')\n"
   ]
  },
  {
   "cell_type": "code",
   "execution_count": 68,
   "id": "087c7def",
   "metadata": {},
   "outputs": [
    {
     "data": {
      "text/plain": [
       "'Benard'"
      ]
     },
     "execution_count": 68,
     "metadata": {},
     "output_type": "execute_result"
    }
   ],
   "source": [
    "first_name"
   ]
  },
  {
   "cell_type": "code",
   "execution_count": 75,
   "id": "7537810b",
   "metadata": {},
   "outputs": [
    {
     "name": "stdout",
     "output_type": "stream",
     "text": [
      "{'Agatha': 'F', 'Daniel': 'B', 'Udeme': 'A'}\n"
     ]
    },
    {
     "data": {
      "text/html": [
       "<div>\n",
       "<style scoped>\n",
       "    .dataframe tbody tr th:only-of-type {\n",
       "        vertical-align: middle;\n",
       "    }\n",
       "\n",
       "    .dataframe tbody tr th {\n",
       "        vertical-align: top;\n",
       "    }\n",
       "\n",
       "    .dataframe thead th {\n",
       "        text-align: right;\n",
       "    }\n",
       "</style>\n",
       "<table border=\"1\" class=\"dataframe\">\n",
       "  <thead>\n",
       "    <tr style=\"text-align: right;\">\n",
       "      <th></th>\n",
       "      <th>student</th>\n",
       "      <th>Grade</th>\n",
       "    </tr>\n",
       "  </thead>\n",
       "  <tbody>\n",
       "    <tr>\n",
       "      <th>0</th>\n",
       "      <td>Agatha</td>\n",
       "      <td>F</td>\n",
       "    </tr>\n",
       "    <tr>\n",
       "      <th>1</th>\n",
       "      <td>Daniel</td>\n",
       "      <td>B</td>\n",
       "    </tr>\n",
       "    <tr>\n",
       "      <th>2</th>\n",
       "      <td>Udeme</td>\n",
       "      <td>A</td>\n",
       "    </tr>\n",
       "  </tbody>\n",
       "</table>\n",
       "</div>"
      ],
      "text/plain": [
       "  student Grade\n",
       "0  Agatha     F\n",
       "1  Daniel     B\n",
       "2   Udeme     A"
      ]
     },
     "execution_count": 75,
     "metadata": {},
     "output_type": "execute_result"
    }
   ],
   "source": [
    "studentList = ['Agatha', 'Daniel', 'Udeme']\n",
    "\n",
    "examScore = [56,78,90]\n",
    "\n",
    "GradeList = ['A','B', 'C', 'F']\n",
    "\n",
    "studentRes= {}\n",
    "\n",
    "for student, score in zip(studentList,examScore):\n",
    "    #print(student, score)\n",
    "    \n",
    "    if score >85:\n",
    "        grade = GradeList[0]\n",
    "        studentRes[student] = grade\n",
    "    elif score >70 and score < 85:\n",
    "        grade = GradeList[1]\n",
    "        studentRes[student] = grade \n",
    "    elif score >60 and score < 70:\n",
    "        grade = GradeList[2]\n",
    "        studentRes[student] = grade \n",
    "    else:\n",
    "        grade = GradeList[3]\n",
    "        studentRes[student] = grade \n",
    "        \n",
    "print(studentRes)\n",
    "\n",
    "import pandas as pd \n",
    "\n",
    "scoreCol = list(studentRes.values())\n",
    "studCol = list(studentRes.keys())\n",
    "\n",
    "df = pd.DataFrame()\n",
    "\n",
    "df['student'] = studCol\n",
    "df['Grade'] = scoreCol\n",
    "df"
   ]
  },
  {
   "cell_type": "code",
   "execution_count": 77,
   "id": "241ae74e",
   "metadata": {},
   "outputs": [],
   "source": [
    "#saving to disk \n",
    "\n",
    "df.to_csv('c:/datasets/cohort_16_result.csv')"
   ]
  },
  {
   "cell_type": "code",
   "execution_count": null,
   "id": "7659afbb",
   "metadata": {},
   "outputs": [],
   "source": []
  },
  {
   "cell_type": "code",
   "execution_count": 76,
   "id": "cd92c1fa",
   "metadata": {},
   "outputs": [
    {
     "data": {
      "text/plain": [
       "{'Agatha': 'F', 'Daniel': 'B', 'Udeme': 'A'}"
      ]
     },
     "execution_count": 76,
     "metadata": {},
     "output_type": "execute_result"
    }
   ],
   "source": [
    "studentRes"
   ]
  },
  {
   "cell_type": "code",
   "execution_count": 82,
   "id": "fad1d142",
   "metadata": {},
   "outputs": [
    {
     "name": "stdout",
     "output_type": "stream",
     "text": [
      "enter student nameSamuel\n",
      "enter student score67\n",
      "{'Samuel': 'C'}\n"
     ]
    },
    {
     "data": {
      "text/html": [
       "<div>\n",
       "<style scoped>\n",
       "    .dataframe tbody tr th:only-of-type {\n",
       "        vertical-align: middle;\n",
       "    }\n",
       "\n",
       "    .dataframe tbody tr th {\n",
       "        vertical-align: top;\n",
       "    }\n",
       "\n",
       "    .dataframe thead th {\n",
       "        text-align: right;\n",
       "    }\n",
       "</style>\n",
       "<table border=\"1\" class=\"dataframe\">\n",
       "  <thead>\n",
       "    <tr style=\"text-align: right;\">\n",
       "      <th></th>\n",
       "      <th>student</th>\n",
       "      <th>Grade</th>\n",
       "    </tr>\n",
       "  </thead>\n",
       "  <tbody>\n",
       "    <tr>\n",
       "      <th>0</th>\n",
       "      <td>Samuel</td>\n",
       "      <td>C</td>\n",
       "    </tr>\n",
       "  </tbody>\n",
       "</table>\n",
       "</div>"
      ],
      "text/plain": [
       "  student Grade\n",
       "0  Samuel     C"
      ]
     },
     "execution_count": 82,
     "metadata": {},
     "output_type": "execute_result"
    }
   ],
   "source": [
    "student  = input('enter student name')\n",
    "score = int(input('enter student score'))\n",
    "\n",
    "GradeList = ['A','B', 'C', 'F']\n",
    "\n",
    "studentRes= {}\n",
    "\n",
    "\n",
    "if score >85:\n",
    "    grade = GradeList[0]\n",
    "    studentRes[student] = grade\n",
    "elif score >70 and score < 85:\n",
    "    grade = GradeList[1]\n",
    "    studentRes[student] = grade \n",
    "elif score >60 and score < 70:\n",
    "    grade = GradeList[2]\n",
    "    studentRes[student] = grade \n",
    "else:\n",
    "    grade = GradeList[3]\n",
    "    studentRes[student] = grade \n",
    "\n",
    "print(studentRes)\n",
    "\n",
    "import pandas as pd \n",
    "\n",
    "scoreCol = list(studentRes.values())\n",
    "studCol = list(studentRes.keys())\n",
    "\n",
    "df = pd.DataFrame()\n",
    "\n",
    "df['student'] = studCol\n",
    "df['Grade'] = scoreCol\n",
    "df"
   ]
  },
  {
   "cell_type": "code",
   "execution_count": null,
   "id": "91c129d2",
   "metadata": {},
   "outputs": [],
   "source": []
  }
 ],
 "metadata": {
  "kernelspec": {
   "display_name": "Python 3",
   "language": "python",
   "name": "python3"
  },
  "language_info": {
   "codemirror_mode": {
    "name": "ipython",
    "version": 3
   },
   "file_extension": ".py",
   "mimetype": "text/x-python",
   "name": "python",
   "nbconvert_exporter": "python",
   "pygments_lexer": "ipython3",
   "version": "3.8.8"
  }
 },
 "nbformat": 4,
 "nbformat_minor": 5
}
